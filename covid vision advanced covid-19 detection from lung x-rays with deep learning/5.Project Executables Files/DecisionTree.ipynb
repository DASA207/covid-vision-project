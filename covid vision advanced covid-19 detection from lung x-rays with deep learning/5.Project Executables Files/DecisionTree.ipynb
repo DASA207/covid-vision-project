{
 "cells": [
  {
   "cell_type": "code",
   "execution_count": null,
   "id": "dc3e446c-53b1-4968-b5de-05ca9c6e9495",
   "metadata": {},
   "outputs": [
    {
     "name": "stderr",
     "output_type": "stream",
     "text": [
      "C:\\Users\\harsh\\AppData\\Roaming\\Python\\Python311\\site-packages\\keras\\src\\layers\\convolutional\\base_conv.py:107: UserWarning: Do not pass an `input_shape`/`input_dim` argument to a layer. When using Sequential models, prefer using an `Input(shape)` object as the first layer in the model instead.\n",
      "  super().__init__(activity_regularizer=activity_regularizer, **kwargs)\n"
     ]
    },
    {
     "name": "stdout",
     "output_type": "stream",
     "text": [
      "Epoch 1/15\n"
     ]
    },
    {
     "name": "stderr",
     "output_type": "stream",
     "text": [
      "C:\\Users\\harsh\\AppData\\Roaming\\Python\\Python311\\site-packages\\keras\\src\\trainers\\data_adapters\\py_dataset_adapter.py:121: UserWarning: Your `PyDataset` class should call `super().__init__(**kwargs)` in its constructor. `**kwargs` can include `workers`, `use_multiprocessing`, `max_queue_size`. Do not pass these arguments to `fit()`, as they will be ignored.\n",
      "  self._warn_if_super_not_called()\n"
     ]
    },
    {
     "name": "stdout",
     "output_type": "stream",
     "text": [
      "\u001b[1m37/37\u001b[0m \u001b[32m━━━━━━━━━━━━━━━━━━━━\u001b[0m\u001b[37m\u001b[0m \u001b[1m86s\u001b[0m 2s/step - accuracy: 0.7665 - loss: 0.7708\n",
      "Epoch 2/15\n",
      "\u001b[1m37/37\u001b[0m \u001b[32m━━━━━━━━━━━━━━━━━━━━\u001b[0m\u001b[37m\u001b[0m \u001b[1m77s\u001b[0m 2s/step - accuracy: 0.9683 - loss: 0.1061\n",
      "Epoch 3/15\n",
      "\u001b[1m37/37\u001b[0m \u001b[32m━━━━━━━━━━━━━━━━━━━━\u001b[0m\u001b[37m\u001b[0m \u001b[1m78s\u001b[0m 2s/step - accuracy: 0.9759 - loss: 0.0545\n",
      "Epoch 4/15\n",
      "\u001b[1m37/37\u001b[0m \u001b[32m━━━━━━━━━━━━━━━━━━━━\u001b[0m\u001b[37m\u001b[0m \u001b[1m81s\u001b[0m 2s/step - accuracy: 0.9824 - loss: 0.0421\n",
      "Epoch 5/15\n",
      "\u001b[1m37/37\u001b[0m \u001b[32m━━━━━━━━━━━━━━━━━━━━\u001b[0m\u001b[37m\u001b[0m \u001b[1m76s\u001b[0m 2s/step - accuracy: 0.9853 - loss: 0.0394\n",
      "Epoch 6/15\n",
      "\u001b[1m37/37\u001b[0m \u001b[32m━━━━━━━━━━━━━━━━━━━━\u001b[0m\u001b[37m\u001b[0m \u001b[1m75s\u001b[0m 2s/step - accuracy: 0.9874 - loss: 0.0384\n",
      "Epoch 7/15\n",
      "\u001b[1m37/37\u001b[0m \u001b[32m━━━━━━━━━━━━━━━━━━━━\u001b[0m\u001b[37m\u001b[0m \u001b[1m69s\u001b[0m 2s/step - accuracy: 0.9947 - loss: 0.0221\n",
      "Epoch 8/15\n",
      "\u001b[1m37/37\u001b[0m \u001b[32m━━━━━━━━━━━━━━━━━━━━\u001b[0m\u001b[37m\u001b[0m \u001b[1m71s\u001b[0m 2s/step - accuracy: 0.9912 - loss: 0.0257\n",
      "Epoch 9/15\n",
      "\u001b[1m37/37\u001b[0m \u001b[32m━━━━━━━━━━━━━━━━━━━━\u001b[0m\u001b[37m\u001b[0m \u001b[1m72s\u001b[0m 2s/step - accuracy: 0.9980 - loss: 0.0079\n",
      "Epoch 10/15\n",
      "\u001b[1m37/37\u001b[0m \u001b[32m━━━━━━━━━━━━━━━━━━━━\u001b[0m\u001b[37m\u001b[0m \u001b[1m71s\u001b[0m 2s/step - accuracy: 1.0000 - loss: 0.0021\n",
      "Epoch 11/15\n",
      "\u001b[1m37/37\u001b[0m \u001b[32m━━━━━━━━━━━━━━━━━━━━\u001b[0m\u001b[37m\u001b[0m \u001b[1m64s\u001b[0m 1s/step - accuracy: 0.9999 - loss: 0.0012 \n",
      "Epoch 12/15\n",
      "\u001b[1m37/37\u001b[0m \u001b[32m━━━━━━━━━━━━━━━━━━━━\u001b[0m\u001b[37m\u001b[0m \u001b[1m63s\u001b[0m 1s/step - accuracy: 0.9839 - loss: 0.0360\n",
      "Epoch 13/15\n",
      "\u001b[1m37/37\u001b[0m \u001b[32m━━━━━━━━━━━━━━━━━━━━\u001b[0m\u001b[37m\u001b[0m \u001b[1m64s\u001b[0m 1s/step - accuracy: 0.9997 - loss: 0.0079\n",
      "Epoch 14/15\n",
      "\u001b[1m37/37\u001b[0m \u001b[32m━━━━━━━━━━━━━━━━━━━━\u001b[0m\u001b[37m\u001b[0m \u001b[1m63s\u001b[0m 1s/step - accuracy: 0.9984 - loss: 0.0050\n",
      "Epoch 15/15\n"
     ]
    }
   ],
   "source": [
    "import os\n",
    "import numpy as np\n",
    "import tensorflow as tf\n",
    "from keras import models, layers\n",
    "from PIL import Image\n",
    "\n",
    "# Define the Image_generator class\n",
    "class Image_generator(tf.keras.utils.Sequence):\n",
    "    def __init__(self, file_paths, labels, image_size, batch_size):\n",
    "        self.file_paths = file_paths\n",
    "        self.labels = labels\n",
    "        self.image_size = image_size\n",
    "        self.batch_size = batch_size\n",
    "        self.indices = np.arange(len(file_paths))\n",
    "        np.random.shuffle(self.indices)\n",
    "\n",
    "    def __len__(self):\n",
    "        return int(len(self.file_paths) / self.batch_size)\n",
    "\n",
    "    def __getitem__(self, index):\n",
    "        batch_indices_range = self.indices[index * self.batch_size:(index + 1) * self.batch_size]\n",
    "        batch_indices_paths = [self.file_paths[i] for i in batch_indices_range]\n",
    "        batch_indices_labels = [self.labels[i] for i in batch_indices_range]\n",
    "        return self.data_generator(batch_indices_paths, batch_indices_labels)\n",
    "\n",
    "    def data_generator(self, batch_indices_paths, batch_indices_labels):\n",
    "        images = []\n",
    "        for i in batch_indices_paths:\n",
    "            image = Image.open(i).convert('RGB')\n",
    "            img = image.resize(self.image_size)\n",
    "            image_array = np.array(img) / 255.0\n",
    "            images.append(image_array)\n",
    "        images = np.array(images)\n",
    "        labels = np.array(batch_indices_labels)\n",
    "        return images, labels\n",
    "\n",
    "    def on_epoch_end(self):\n",
    "        np.random.shuffle(self.indices)\n",
    "\n",
    "# Paths to the dataset\n",
    "virus = r\"C:\\Users\\harsh\\Downloads\\archive\\COVID_IEEE\\covid\"\n",
    "normal =r\"C:\\Users\\harsh\\Downloads\\archive\\COVID_IEEE\\normal\"\n",
    "\n",
    "viral_path = [os.path.join(virus, i) for i in os.listdir(virus)]\n",
    "normal_path = [os.path.join(normal, i) for i in os.listdir(normal)]\n",
    "\n",
    "viral_label = np.array([0] * len(viral_path))\n",
    "normal_label = np.array([1] * len(normal_path))\n",
    "\n",
    "file_paths = np.concatenate((viral_path, normal_path), axis=0)\n",
    "labels = np.concatenate((viral_label, normal_label), axis=0)\n",
    "\n",
    "image_size = (128, 128)\n",
    "batch_size = 32\n",
    "\n",
    "training = Image_generator(file_paths, labels, image_size, batch_size)\n",
    "\n",
    "# Define the CNN model\n",
    "cnn = models.Sequential([\n",
    "    layers.Conv2D(filters=32, kernel_size=(3, 3), input_shape=(128, 128, 3), activation='relu'),\n",
    "    layers.MaxPool2D((2, 2)),\n",
    "\n",
    "    layers.Conv2D(filters=32, kernel_size=(3, 3), activation='relu'),\n",
    "    layers.MaxPool2D((2, 2)),\n",
    "\n",
    "    layers.Flatten(),\n",
    "    layers.Dense(512, activation='relu'),\n",
    "    layers.Dense(2, activation='softmax')\n",
    "])\n",
    "\n",
    "cnn.compile(optimizer='adam', loss='sparse_categorical_crossentropy', metrics=['accuracy'])\n",
    "cnn.fit(training, epochs=15)\n",
    "\n",
    "# Save the model\n",
    "cnn.save('covid_cnn_model.h5')\n",
    "\n"
   ]
  },
  {
   "cell_type": "code",
   "execution_count": null,
   "id": "30f1ff39-0489-4503-9b4f-aedfb0d3838d",
   "metadata": {},
   "outputs": [],
   "source": []
  }
 ],
 "metadata": {
  "kernelspec": {
   "display_name": "Python 3 (ipykernel)",
   "language": "python",
   "name": "python3"
  },
  "language_info": {
   "codemirror_mode": {
    "name": "ipython",
    "version": 3
   },
   "file_extension": ".py",
   "mimetype": "text/x-python",
   "name": "python",
   "nbconvert_exporter": "python",
   "pygments_lexer": "ipython3",
   "version": "3.11.7"
  }
 },
 "nbformat": 4,
 "nbformat_minor": 5
}
